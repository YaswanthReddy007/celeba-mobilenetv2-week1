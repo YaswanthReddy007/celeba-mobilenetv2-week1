{
  "nbformat": 4,
  "nbformat_minor": 0,
  "metadata": {
    "colab": {
      "provenance": [],
      "gpuType": "A100",
      "machine_shape": "hm"
    },
    "kernelspec": {
      "name": "python3",
      "display_name": "Python 3"
    },
    "language_info": {
      "name": "python"
    },
    "accelerator": "GPU"
  },
  "cells": [
    {
      "cell_type": "code",
      "source": [
        "# Runtime / env info\n",
        "import torch, os, sys, random, numpy as np\n",
        "print(\"Python:\", sys.version)\n",
        "print(\"Torch :\", torch.__version__)\n",
        "print(\"CUDA  :\", torch.version.cuda if torch.cuda.is_available() else \"CPU-only\")\n",
        "print(\"GPU   :\", torch.cuda.get_device_name(0) if torch.cuda.is_available() else \"CPU\")\n",
        "\n",
        "# Reproducibility\n",
        "SEED = 42\n",
        "random.seed(SEED); np.random.seed(SEED); torch.manual_seed(SEED)\n",
        "if torch.cuda.is_available(): torch.cuda.manual_seed_all(SEED)\n",
        "\n",
        "# Paths (you uploaded directly to /content)\n",
        "BASE = \"/content\"\n",
        "ZIP_PATH = os.path.join(BASE, \"img_align_celeba.zip\")\n",
        "ID_PATH  = os.path.join(BASE, \"identity_CelebA.txt\")\n",
        "IMG_DIR  = os.path.join(BASE, \"img_align_celeba\")\n",
        "SPLIT_DIR = os.path.join(BASE, \"splits\"); os.makedirs(SPLIT_DIR, exist_ok=True)\n",
        "CKPT_DIR  = os.path.join(BASE, \"checkpoints\"); os.makedirs(CKPT_DIR, exist_ok=True)\n",
        "\n",
        "# A100-friendly defaults\n",
        "IMG_SIZE   = 256\n",
        "BATCH_SIZE = 128\n",
        "EPOCHS_WARMUP = 3\n",
        "EPOCHS_FT     = 12\n",
        "LABEL_SMOOTH  = 0.07\n",
        "WEIGHT_DECAY  = 1e-4\n",
        "LR_HEAD_WARM  = 1e-3\n",
        "LR_FT         = 3e-4\n",
        "\n",
        "device = torch.device(\"cuda\" if torch.cuda.is_available() else \"cpu\")\n",
        "device\n"
      ],
      "metadata": {
        "id": "EK9bt-xRfuEh",
        "colab": {
          "base_uri": "https://localhost:8080/"
        },
        "outputId": "ff98b19f-4399-4016-8cb7-e921da585216"
      },
      "execution_count": 9,
      "outputs": [
        {
          "output_type": "stream",
          "name": "stdout",
          "text": [
            "Python: 3.12.11 (main, Jun  4 2025, 08:56:18) [GCC 11.4.0]\n",
            "Torch : 2.8.0+cu126\n",
            "CUDA  : 12.6\n",
            "GPU   : NVIDIA A100-SXM4-80GB\n"
          ]
        },
        {
          "output_type": "execute_result",
          "data": {
            "text/plain": [
              "device(type='cuda')"
            ]
          },
          "metadata": {},
          "execution_count": 9
        }
      ]
    },
    {
      "cell_type": "code",
      "source": [
        "import glob, zipfile\n",
        "\n",
        "print(\"Files in /content/:\")\n",
        "for p in sorted(glob.glob(\"/content/*\")):\n",
        "    print(\" -\", os.path.basename(p))\n",
        "\n",
        "os.makedirs(IMG_DIR, exist_ok=True)\n",
        "already = any(name.lower().endswith(\".jpg\") for name in os.listdir(IMG_DIR)) if os.path.exists(IMG_DIR) else False\n",
        "\n",
        "if not already:\n",
        "    assert os.path.exists(ZIP_PATH), f\"Missing zip at {ZIP_PATH}\"\n",
        "    print(\"Extracting images (few minutes)…\")\n",
        "    with zipfile.ZipFile(ZIP_PATH, \"r\") as zf:\n",
        "        zf.extractall(IMG_DIR)\n",
        "    print(\"Done.\")\n",
        "else:\n",
        "    print(\"Images already extracted.\")\n",
        "\n",
        "jpgs = sorted(glob.glob(os.path.join(IMG_DIR, \"*.jpg\")))\n",
        "print(f\"Found {len(jpgs):,} images in {IMG_DIR}\")\n",
        "\n",
        "print(\"\\nFirst 5 lines of identity_CelebA.txt:\")\n",
        "with open(ID_PATH, \"r\") as fh:\n",
        "    for i, line in enumerate(fh):\n",
        "        if i >= 5: break\n",
        "        print(line.strip())\n"
      ],
      "metadata": {
        "colab": {
          "base_uri": "https://localhost:8080/"
        },
        "id": "K4Xw_2Hgw3GO",
        "outputId": "f14aa0e8-3cba-4b83-a931-135350dc4743"
      },
      "execution_count": 10,
      "outputs": [
        {
          "output_type": "stream",
          "name": "stdout",
          "text": [
            "Files in /content/:\n",
            " - checkpoints\n",
            " - identity_CelebA.txt\n",
            " - img_align_celeba\n",
            " - img_align_celeba.zip\n",
            " - sample_data\n",
            " - splits\n",
            "Extracting images (few minutes)…\n",
            "Done.\n",
            "Found 0 images in /content/img_align_celeba\n",
            "\n",
            "First 5 lines of identity_CelebA.txt:\n",
            "000001.jpg 2880\n",
            "000002.jpg 2937\n",
            "000003.jpg 8692\n",
            "000004.jpg 5805\n",
            "000005.jpg 9295\n"
          ]
        }
      ]
    },
    {
      "cell_type": "code",
      "source": [
        "import os, glob\n",
        "\n",
        "def count_jpgs(path):\n",
        "    return len(glob.glob(os.path.join(path, \"*.jpg\")))\n",
        "\n",
        "print(\"Current IMG_DIR:\", IMG_DIR)\n",
        "print(\"Direct JPGs in IMG_DIR:\", count_jpgs(IMG_DIR))\n",
        "\n",
        "# If none found, look one or two levels deeper and pick the folder with most JPGs\n",
        "if count_jpgs(IMG_DIR) == 0:\n",
        "    candidates = []\n",
        "    # one level down\n",
        "    for d1 in glob.glob(os.path.join(IMG_DIR, \"*\")):\n",
        "        if os.path.isdir(d1):\n",
        "            candidates.append((d1, count_jpgs(d1)))\n",
        "            # two levels down\n",
        "            for d2 in glob.glob(os.path.join(d1, \"*\")):\n",
        "                if os.path.isdir(d2):\n",
        "                    candidates.append((d2, count_jpgs(d2)))\n",
        "\n",
        "    # choose the subfolder with max jpgs\n",
        "    if candidates:\n",
        "        best_dir, best_cnt = max(candidates, key=lambda x: x[1])\n",
        "        if best_cnt > 0:\n",
        "            IMG_DIR = best_dir\n",
        "            print(f\"Adjusted IMG_DIR -> {IMG_DIR}  (found {best_cnt} JPGs)\")\n",
        "        else:\n",
        "            print(\"No JPGs found in subfolders. Check your zip contents.\")\n",
        "    else:\n",
        "        print(\"No subfolders present under IMG_DIR.\")\n",
        "\n",
        "# Recount after adjustment\n",
        "jpgs = sorted(glob.glob(os.path.join(IMG_DIR, \"*.jpg\")))\n",
        "print(f\"Now seeing {len(jpgs):,} images in {IMG_DIR}\")\n"
      ],
      "metadata": {
        "colab": {
          "base_uri": "https://localhost:8080/"
        },
        "id": "3orDAgYrxrLO",
        "outputId": "26ed7fe5-905e-4469-98c0-46d1fd6c7402"
      },
      "execution_count": 11,
      "outputs": [
        {
          "output_type": "stream",
          "name": "stdout",
          "text": [
            "Current IMG_DIR: /content/img_align_celeba\n",
            "Direct JPGs in IMG_DIR: 0\n",
            "Adjusted IMG_DIR -> /content/img_align_celeba/img_align_celeba/img_align_celeba  (found 202599 JPGs)\n",
            "Now seeing 202,599 images in /content/img_align_celeba/img_align_celeba/img_align_celeba\n"
          ]
        }
      ]
    },
    {
      "cell_type": "code",
      "source": [
        "import os, numpy as np, pandas as pd\n",
        "from sklearn.model_selection import StratifiedShuffleSplit\n",
        "\n",
        "# If df isn't in memory, rebuild it quickly:\n",
        "if 'df' not in globals():\n",
        "    rows = []\n",
        "    with open(ID_PATH, \"r\", errors=\"ignore\") as fh:\n",
        "        for line in fh:\n",
        "            p = line.strip().split()\n",
        "            if len(p) == 2:\n",
        "                rows.append((p[0], int(p[1])))\n",
        "    df = pd.DataFrame(rows, columns=[\"filename\", \"orig_id\"])\n",
        "    have = set(os.listdir(IMG_DIR))\n",
        "    df = df[df[\"filename\"].isin(have)].reset_index(drop=True)\n",
        "\n",
        "print(\"Aligned with images:\", df.shape)\n",
        "\n",
        "# 1) Filter rare classes\n",
        "MIN_IMAGES_PER_CLASS = 10  # Increased to 10 to ensure at least 2 samples per class for splitting\n",
        "counts = df[\"orig_id\"].value_counts()\n",
        "keep_ids = set(counts[counts >= MIN_IMAGES_PER_CLASS].index)\n",
        "df_f = df[df[\"orig_id\"].isin(keep_ids)].reset_index(drop=True)\n",
        "\n",
        "print(f\"Before: {len(df):,} imgs, {df['orig_id'].nunique():,} classes\")\n",
        "print(f\" After: {len(df_f):,} imgs, {df_f['orig_id'].nunique():,} classes (>= {MIN_IMAGES_PER_CLASS}/class)\")\n",
        "\n",
        "# 2) Reindex labels 0..C-1\n",
        "uids = sorted(df_f[\"orig_id\"].unique())\n",
        "oid2nid = {oid:i for i, oid in enumerate(uids)}\n",
        "df_f[\"label\"] = df_f[\"orig_id\"].map(oid2nid)\n",
        "num_classes = len(uids)\n",
        "print(\"Classes after filter:\", num_classes)\n",
        "\n",
        "assert num_classes > 1 and len(df_f) > 0, \"Too few samples/classes after filtering.\"\n",
        "\n",
        "# 3) Stratified 70/15/15\n",
        "X, y = df_f[\"filename\"].values, df_f[\"label\"].values\n",
        "\n",
        "sss1 = StratifiedShuffleSplit(n_splits=1, test_size=0.30, random_state=SEED)\n",
        "train_idx, temp_idx = next(sss1.split(X, y))\n",
        "X_train, y_train = X[train_idx], y[train_idx]\n",
        "X_temp,  y_temp  = X[temp_idx],  y[temp_idx]\n",
        "\n",
        "sss2 = StratifiedShuffleSplit(n_splits=1, test_size=0.50, random_state=SEED)\n",
        "val_idx, test_idx = next(sss2.split(X_temp, y_temp))\n",
        "X_val, y_val   = X_temp[val_idx],  y_temp[val_idx]\n",
        "X_test, y_test = X_temp[test_idx], y_temp[test_idx]\n",
        "\n",
        "print(f\"Train: {len(X_train):,} | Val: {len(X_val):,} | Test: {len(X_test):,}\")\n",
        "\n",
        "# Recreate SPLIT_DIR after IMG_DIR might have been adjusted\n",
        "os.makedirs(SPLIT_DIR, exist_ok=True)\n",
        "\n",
        "# 4) Save splits  (<<< the lines that broke before)\n",
        "pd.DataFrame({\"filename\": X_train, \"label\": y_train}).to_csv(os.path.join(SPLIT_DIR, \"train.csv\"), index=False)\n",
        "pd.DataFrame({\"filename\": X_val,   \"label\": y_val  }).to_csv(os.path.join(SPLIT_DIR, \"val.csv\"),   index=False)\n",
        "pd.DataFrame({\"filename\": X_test,  \"label\": y_test }).to_csv(os.path.join(SPLIT_DIR, \"test.csv\"),  index=False)\n",
        "\n",
        "print(\"Splits saved to:\", SPLIT_DIR)\n",
        "\n",
        "# 5) Quick presence check\n",
        "sample_path = os.path.join(IMG_DIR, X_train[0])\n",
        "print(\"Sample file exists:\", os.path.exists(sample_path), \"->\", sample_path)"
      ],
      "metadata": {
        "colab": {
          "base_uri": "https://localhost:8080/"
        },
        "id": "u9zG30GxyuDG",
        "outputId": "c1e981f9-0993-4385-fbc6-a7671735bb1f"
      },
      "execution_count": 12,
      "outputs": [
        {
          "output_type": "stream",
          "name": "stdout",
          "text": [
            "Aligned with images: (202599, 2)\n",
            "Before: 202,599 imgs, 10,177 classes\n",
            " After: 193,569 imgs, 8,369 classes (>= 10/class)\n",
            "Classes after filter: 8369\n",
            "Train: 135,498 | Val: 29,035 | Test: 29,036\n",
            "Splits saved to: /content/splits\n",
            "Sample file exists: True -> /content/img_align_celeba/img_align_celeba/img_align_celeba/199098.jpg\n"
          ]
        }
      ]
    },
    {
      "cell_type": "code",
      "source": [
        "import os\n",
        "import pandas as pd\n",
        "import torchvision.transforms as T\n",
        "from torch.utils.data import Dataset, DataLoader\n",
        "from PIL import Image\n",
        "\n",
        "IMNET_MEAN = [0.485, 0.456, 0.406]\n",
        "IMNET_STD  = [0.229, 0.224, 0.225]\n",
        "\n",
        "train_tfms = T.Compose([\n",
        "    T.RandomResizedCrop(IMG_SIZE, scale=(0.8, 1.0)),\n",
        "    T.RandomHorizontalFlip(),\n",
        "    T.ToTensor(),\n",
        "    T.Normalize(IMNET_MEAN, IMNET_STD),\n",
        "])\n",
        "\n",
        "eval_tfms = T.Compose([\n",
        "    T.Resize(int(IMG_SIZE*1.1)),\n",
        "    T.CenterCrop(IMG_SIZE),\n",
        "    T.ToTensor(),\n",
        "    T.Normalize(IMNET_MEAN, IMNET_STD),\n",
        "])\n",
        "\n",
        "class CelebADataset(Dataset):\n",
        "    def __init__(self, csv_path, img_dir, transform):\n",
        "        self.df = pd.read_csv(csv_path)\n",
        "        self.img_dir = img_dir\n",
        "        self.transform = transform\n",
        "    def __len__(self): return len(self.df)\n",
        "    def __getitem__(self, idx):\n",
        "        row = self.df.iloc[idx]\n",
        "        img = Image.open(os.path.join(self.img_dir, row[\"filename\"])).convert(\"RGB\")\n",
        "        img = self.transform(img) if self.transform else img\n",
        "        return img, int(row[\"label\"])\n",
        "\n",
        "train_ds = CelebADataset(os.path.join(SPLIT_DIR, \"train.csv\"), IMG_DIR, train_tfms)\n",
        "val_ds   = CelebADataset(os.path.join(SPLIT_DIR, \"val.csv\"),   IMG_DIR, eval_tfms)\n",
        "test_ds  = CelebADataset(os.path.join(SPLIT_DIR, \"test.csv\"),  IMG_DIR, eval_tfms)\n",
        "\n",
        "train_loader = DataLoader(train_ds, batch_size=BATCH_SIZE, shuffle=True,  num_workers=4, pin_memory=True, persistent_workers=True)\n",
        "val_loader   = DataLoader(val_ds,   batch_size=BATCH_SIZE, shuffle=False, num_workers=4, pin_memory=True, persistent_workers=True)\n",
        "test_loader  = DataLoader(test_ds,  batch_size=BATCH_SIZE, shuffle=False, num_workers=4, pin_memory=True, persistent_workers=True)\n",
        "\n",
        "len(train_ds), len(val_ds), len(test_ds)\n"
      ],
      "metadata": {
        "colab": {
          "base_uri": "https://localhost:8080/"
        },
        "id": "2HifyrrR2JUj",
        "outputId": "f30af9f0-7aef-400e-a31f-bd6a653ee12e"
      },
      "execution_count": 13,
      "outputs": [
        {
          "output_type": "execute_result",
          "data": {
            "text/plain": [
              "(135498, 29035, 29036)"
            ]
          },
          "metadata": {},
          "execution_count": 13
        }
      ]
    },
    {
      "cell_type": "code",
      "source": [
        "import torch, torch.nn as nn\n",
        "import torchvision.models as models\n",
        "\n",
        "# recover class count from split files\n",
        "num_classes = pd.read_csv(os.path.join(SPLIT_DIR, \"train.csv\"))[\"label\"].nunique()\n",
        "\n",
        "model = models.mobilenet_v2(weights=models.MobileNet_V2_Weights.IMAGENET1K_V1)\n",
        "in_features = model.classifier[-1].in_features\n",
        "model.classifier[-1] = nn.Linear(in_features, num_classes)\n",
        "model = model.to(device)\n",
        "\n",
        "sum(p.numel() for p in model.parameters())/1e6\n"
      ],
      "metadata": {
        "colab": {
          "base_uri": "https://localhost:8080/"
        },
        "id": "ODaoU2UZ2KyN",
        "outputId": "1a2b949f-fc1e-44de-c506-2b194d13449b"
      },
      "execution_count": 14,
      "outputs": [
        {
          "output_type": "stream",
          "name": "stdout",
          "text": [
            "Downloading: \"https://download.pytorch.org/models/mobilenet_v2-b0353104.pth\" to /root/.cache/torch/hub/checkpoints/mobilenet_v2-b0353104.pth\n"
          ]
        },
        {
          "output_type": "stream",
          "name": "stderr",
          "text": [
            "100%|██████████| 13.6M/13.6M [00:00<00:00, 173MB/s]\n"
          ]
        },
        {
          "output_type": "execute_result",
          "data": {
            "text/plain": [
              "12.944561"
            ]
          },
          "metadata": {},
          "execution_count": 14
        }
      ]
    },
    {
      "cell_type": "code",
      "source": [
        "import torch\n",
        "from torch.cuda.amp import autocast, GradScaler\n",
        "import torch.optim as optim\n",
        "\n",
        "# freeze backbone\n",
        "for p in model.features.parameters():\n",
        "    p.requires_grad = False\n",
        "\n",
        "optimizer = optim.AdamW([p for p in model.parameters() if p.requires_grad],\n",
        "                        lr=LR_HEAD_WARM, weight_decay=WEIGHT_DECAY)\n",
        "criterion = nn.CrossEntropyLoss(label_smoothing=LABEL_SMOOTH)\n",
        "scaler = GradScaler(enabled=True)\n",
        "\n",
        "def run_epoch(loader, train=True):\n",
        "    model.train(mode=train)\n",
        "    total, correct, loss_sum = 0, 0, 0.0\n",
        "    for x, y in loader:\n",
        "        x = x.to(device, non_blocking=True)\n",
        "        y = torch.as_tensor(y, device=device)\n",
        "        if train: optimizer.zero_grad(set_to_none=True)\n",
        "        with autocast(enabled=True):\n",
        "            logits = model(x)\n",
        "            loss = criterion(logits, y)\n",
        "        if train:\n",
        "            scaler.scale(loss).backward()\n",
        "            scaler.step(optimizer)\n",
        "            scaler.update()\n",
        "        loss_sum += loss.item() * x.size(0)\n",
        "        correct  += (logits.argmax(1) == y).sum().item()\n",
        "        total    += x.size(0)\n",
        "    return loss_sum/total, correct/total\n",
        "\n",
        "best_val = 0.0\n",
        "for e in range(1, EPOCHS_WARMUP+1):\n",
        "    tr_loss, tr_acc = run_epoch(train_loader, True)\n",
        "    va_loss, va_acc = run_epoch(val_loader,   False)\n",
        "    best_val = max(best_val, va_acc)\n",
        "    print(f\"[Warmup {e}/{EPOCHS_WARMUP}] tr_loss={tr_loss:.4f} tr_acc={tr_acc:.4f} | val_loss={va_loss:.4f} val_acc={va_acc:.4f}\")\n"
      ],
      "metadata": {
        "colab": {
          "base_uri": "https://localhost:8080/"
        },
        "id": "shqTARcW2Os_",
        "outputId": "26d4223f-60df-4684-8485-ddb5fa095afb"
      },
      "execution_count": 15,
      "outputs": [
        {
          "output_type": "stream",
          "name": "stderr",
          "text": [
            "/tmp/ipython-input-6502190.py:12: FutureWarning: `torch.cuda.amp.GradScaler(args...)` is deprecated. Please use `torch.amp.GradScaler('cuda', args...)` instead.\n",
            "  scaler = GradScaler(enabled=True)\n",
            "/tmp/ipython-input-6502190.py:21: FutureWarning: `torch.cuda.amp.autocast(args...)` is deprecated. Please use `torch.amp.autocast('cuda', args...)` instead.\n",
            "  with autocast(enabled=True):\n"
          ]
        },
        {
          "output_type": "stream",
          "name": "stdout",
          "text": [
            "[Warmup 1/3] tr_loss=8.6169 tr_acc=0.0143 | val_loss=7.6768 val_acc=0.0400\n",
            "[Warmup 2/3] tr_loss=6.4946 tr_acc=0.1005 | val_loss=7.2265 val_acc=0.0702\n",
            "[Warmup 3/3] tr_loss=5.5640 tr_acc=0.1893 | val_loss=7.0615 val_acc=0.0899\n"
          ]
        }
      ]
    },
    {
      "cell_type": "code",
      "source": [
        "# Unfreeze top portion of backbone (here: last ~1/2 of feature blocks)\n",
        "unfreeze = False\n",
        "for name, p in model.features.named_parameters():\n",
        "    # mobilenet has features[0..18]; unfreeze higher indices\n",
        "    block_idx = int(name.split('.')[0])\n",
        "    if block_idx >= 10:  # adjust threshold to unfreeze more/less\n",
        "        p.requires_grad = True\n",
        "        unfreeze = True\n",
        "\n",
        "trainable = [p for p in model.parameters() if p.requires_grad]\n",
        "print(\"Trainable params (M):\", sum(p.numel() for p in trainable)/1e6)\n",
        "\n",
        "# New optimizer for fine-tuning (lower LR)\n",
        "optimizer = optim.AdamW(trainable, lr=LR_FT, weight_decay=WEIGHT_DECAY)\n",
        "scheduler = optim.lr_scheduler.CosineAnnealingLR(optimizer, T_max=EPOCHS_FT)\n",
        "criterion = nn.CrossEntropyLoss(label_smoothing=LABEL_SMOOTH)\n",
        "scaler = GradScaler(enabled=True)\n",
        "\n",
        "def evaluate(loader):\n",
        "    model.eval()\n",
        "    total, correct, loss_sum = 0, 0, 0.0\n",
        "    all_preds, all_labels = [], []\n",
        "    with torch.no_grad():\n",
        "        for x, y in loader:\n",
        "            x, y = x.to(device, non_blocking=True), torch.tensor(y).to(device, non_blocking=True)\n",
        "            with autocast(enabled=True):\n",
        "                logits = model(x)\n",
        "                loss = criterion(logits, y)\n",
        "            loss_sum += loss.item() * x.size(0)\n",
        "            pred = logits.argmax(1)\n",
        "            correct += (pred == y).sum().item()\n",
        "            total += x.size(0)\n",
        "            all_preds.append(pred.cpu())\n",
        "            all_labels.append(y.cpu())\n",
        "    import torch as T\n",
        "    return loss_sum/total, correct/total, T.cat(all_preds), T.cat(all_labels)\n",
        "\n",
        "best_val = 0.0\n",
        "best_path = os.path.join(CKPT_DIR, f\"mobilenetv2_best.pt\")\n",
        "\n",
        "for epoch in range(1, EPOCHS_FT+1):\n",
        "    tr_loss, tr_acc = run_epoch(train_loader, train=True)\n",
        "    va_loss, va_acc, _, _ = evaluate(val_loader)\n",
        "    if va_acc > best_val:\n",
        "        best_val = va_acc\n",
        "        torch.save({\"model\": model.state_dict(), \"num_classes\": num_classes, \"img_size\": IMG_SIZE}, best_path)\n",
        "    scheduler.step()\n",
        "    print(f\"[FT {epoch}/{EPOCHS_FT}] train_loss={tr_loss:.4f} acc={tr_acc:.4f} | val_loss={va_loss:.4f} acc={va_acc:.4f} | best_val={best_val:.4f}\")\n",
        "\n",
        "print(\"Saved best checkpoint to:\", best_path)\n"
      ],
      "metadata": {
        "colab": {
          "base_uri": "https://localhost:8080/"
        },
        "id": "Nyll-6AY-Jok",
        "outputId": "dc4a9f42-91c1-49ac-d2ac-d1148a881d85"
      },
      "execution_count": 16,
      "outputs": [
        {
          "output_type": "stream",
          "name": "stdout",
          "text": [
            "Trainable params (M): 12.759473\n"
          ]
        },
        {
          "output_type": "stream",
          "name": "stderr",
          "text": [
            "/tmp/ipython-input-2563652827.py:17: FutureWarning: `torch.cuda.amp.GradScaler(args...)` is deprecated. Please use `torch.amp.GradScaler('cuda', args...)` instead.\n",
            "  scaler = GradScaler(enabled=True)\n",
            "/tmp/ipython-input-6502190.py:21: FutureWarning: `torch.cuda.amp.autocast(args...)` is deprecated. Please use `torch.amp.autocast('cuda', args...)` instead.\n",
            "  with autocast(enabled=True):\n",
            "/tmp/ipython-input-2563652827.py:25: UserWarning: To copy construct from a tensor, it is recommended to use sourceTensor.detach().clone() or sourceTensor.detach().clone().requires_grad_(True), rather than torch.tensor(sourceTensor).\n",
            "  x, y = x.to(device, non_blocking=True), torch.tensor(y).to(device, non_blocking=True)\n",
            "/tmp/ipython-input-2563652827.py:26: FutureWarning: `torch.cuda.amp.autocast(args...)` is deprecated. Please use `torch.amp.autocast('cuda', args...)` instead.\n",
            "  with autocast(enabled=True):\n"
          ]
        },
        {
          "output_type": "stream",
          "name": "stdout",
          "text": [
            "[FT 1/12] train_loss=3.8260 acc=0.4558 | val_loss=4.9433 acc=0.2875 | best_val=0.2875\n",
            "[FT 2/12] train_loss=2.9620 acc=0.6206 | val_loss=4.5409 acc=0.3511 | best_val=0.3511\n",
            "[FT 3/12] train_loss=2.4950 acc=0.7233 | val_loss=4.2184 acc=0.4056 | best_val=0.4056\n",
            "[FT 4/12] train_loss=2.1628 acc=0.8006 | val_loss=3.9981 acc=0.4456 | best_val=0.4456\n",
            "[FT 5/12] train_loss=1.9215 acc=0.8595 | val_loss=3.8526 acc=0.4725 | best_val=0.4725\n",
            "[FT 6/12] train_loss=1.7413 acc=0.9034 | val_loss=3.6255 acc=0.5164 | best_val=0.5164\n",
            "[FT 7/12] train_loss=1.6035 acc=0.9362 | val_loss=3.5608 acc=0.5310 | best_val=0.5310\n",
            "[FT 8/12] train_loss=1.5036 acc=0.9579 | val_loss=3.5224 acc=0.5409 | best_val=0.5409\n",
            "[FT 9/12] train_loss=1.4313 acc=0.9714 | val_loss=3.4332 acc=0.5584 | best_val=0.5584\n",
            "[FT 10/12] train_loss=1.3807 acc=0.9812 | val_loss=3.4155 acc=0.5637 | best_val=0.5637\n",
            "[FT 11/12] train_loss=1.3485 acc=0.9856 | val_loss=3.3828 acc=0.5718 | best_val=0.5718\n",
            "[FT 12/12] train_loss=1.3306 acc=0.9880 | val_loss=3.3723 acc=0.5765 | best_val=0.5765\n",
            "Saved best checkpoint to: /content/checkpoints/mobilenetv2_best.pt\n"
          ]
        }
      ]
    },
    {
      "cell_type": "code",
      "source": [
        "from sklearn.metrics import f1_score\n",
        "\n",
        "ckpt = torch.load(best_path, map_location=device)\n",
        "model.load_state_dict(ckpt[\"model\"])\n",
        "\n",
        "val_loss, val_acc, val_pred, val_true = evaluate(val_loader)\n",
        "test_loss, test_acc, test_pred, test_true = evaluate(test_loader)\n",
        "\n",
        "val_f1  = f1_score(val_true.numpy(),  val_pred.numpy(),  average=\"macro\")\n",
        "test_f1 = f1_score(test_true.numpy(), test_pred.numpy(), average=\"macro\")\n",
        "\n",
        "print(f\"VAL  - loss {val_loss:.4f} | acc {val_acc:.4f} | macro-F1 {val_f1:.4f}\")\n",
        "print(f\"TEST - loss {test_loss:.4f} | acc {test_acc:.4f} | macro-F1 {test_f1:.4f}\")\n"
      ],
      "metadata": {
        "colab": {
          "base_uri": "https://localhost:8080/"
        },
        "id": "KxIdup_fAcB9",
        "outputId": "820352da-27b2-4e42-a88e-af40a3351773"
      },
      "execution_count": 17,
      "outputs": [
        {
          "output_type": "stream",
          "name": "stderr",
          "text": [
            "/tmp/ipython-input-2563652827.py:25: UserWarning: To copy construct from a tensor, it is recommended to use sourceTensor.detach().clone() or sourceTensor.detach().clone().requires_grad_(True), rather than torch.tensor(sourceTensor).\n",
            "  x, y = x.to(device, non_blocking=True), torch.tensor(y).to(device, non_blocking=True)\n",
            "/tmp/ipython-input-2563652827.py:26: FutureWarning: `torch.cuda.amp.autocast(args...)` is deprecated. Please use `torch.amp.autocast('cuda', args...)` instead.\n",
            "  with autocast(enabled=True):\n"
          ]
        },
        {
          "output_type": "stream",
          "name": "stdout",
          "text": [
            "VAL  - loss 3.3723 | acc 0.5765 | macro-F1 0.5568\n",
            "TEST - loss 3.3296 | acc 0.5768 | macro-F1 0.5531\n"
          ]
        }
      ]
    },
    {
      "cell_type": "code",
      "source": [
        "# === Single-photo demo: upload an image -> print predicted celebrity ID ===\n",
        "import os, glob, numpy as np, pandas as pd, torch, torch.nn.functional as F\n",
        "from PIL import Image\n",
        "import torchvision.transforms as T\n",
        "import torchvision.models as models\n",
        "from IPython.display import display\n",
        "try:\n",
        "    from google.colab import files\n",
        "except Exception:\n",
        "    files = None  # not in Colab\n",
        "\n",
        "# ---- Required paths (edit ONLY if your paths differ) ----\n",
        "BASE       = \"/content\"\n",
        "SPLIT_DIR  = os.path.join(BASE, \"splits\")\n",
        "ID_PATH    = os.path.join(BASE, \"identity_CelebA.txt\")\n",
        "CKPT_PATH  = os.path.join(BASE, \"checkpoints\", \"mobilenetv2_best.pt\")\n",
        "\n",
        "# Try to reuse existing IMG_DIR; else auto-detect folder with most JPGs\n",
        "try:\n",
        "    IMG_DIR\n",
        "except NameError:\n",
        "    IMG_DIR = \"/content/img_align_celeba\"\n",
        "def _jpg_count(p): return len(glob.glob(os.path.join(p, \"*.jpg\"))) if os.path.isdir(p) else 0\n",
        "if _jpg_count(IMG_DIR) == 0:\n",
        "    cands = []\n",
        "    for r in [\"/content/img_align_celeba\", \"/content\"]:\n",
        "        for d,_,_ in os.walk(r):\n",
        "            cnt = _jpg_count(d)\n",
        "            if cnt > 1000:\n",
        "                cands.append((cnt, d))\n",
        "    if cands:\n",
        "        IMG_DIR = max(cands, key=lambda x: x[0])[1]\n",
        "\n",
        "# ---- Load model from checkpoint ----\n",
        "device = torch.device(\"cuda\" if torch.cuda.is_available() else \"cpu\")\n",
        "assert os.path.exists(CKPT_PATH), f\"Checkpoint not found: {CKPT_PATH}\"\n",
        "ckpt = torch.load(CKPT_PATH, map_location=device)\n",
        "num_classes = int(ckpt.get(\"num_classes\"))\n",
        "IMG_SIZE    = int(ckpt.get(\"img_size\", 256))\n",
        "\n",
        "model = models.mobilenet_v2(weights=None)\n",
        "in_features = model.classifier[-1].in_features\n",
        "model.classifier[-1] = torch.nn.Linear(in_features, num_classes)\n",
        "model.load_state_dict(ckpt[\"model\"], strict=True)\n",
        "model.eval().to(device)\n",
        "\n",
        "# ---- Build label_index -> original CelebA ID map ----\n",
        "assert os.path.exists(ID_PATH), f\"identity file not found: {ID_PATH}\"\n",
        "fname_to_orig = {}\n",
        "with open(ID_PATH, \"r\", errors=\"ignore\") as fh:\n",
        "    for line in fh:\n",
        "        p = line.strip().split()\n",
        "        if len(p) == 2:\n",
        "            fname_to_orig[p[0]] = int(p[1])\n",
        "\n",
        "dfs = []\n",
        "for name in [\"train.csv\", \"val.csv\", \"test.csv\"]:\n",
        "    p = os.path.join(SPLIT_DIR, name)\n",
        "    assert os.path.exists(p), f\"Missing split file: {p}\"\n",
        "    dfs.append(pd.read_csv(p))\n",
        "all_df = pd.concat(dfs, ignore_index=True)\n",
        "\n",
        "label_to_orig = {}\n",
        "for lbl, grp in all_df.groupby(\"label\"):\n",
        "    # take any filename for this label to recover original ID\n",
        "    for fn in grp[\"filename\"]:\n",
        "        if fn in fname_to_orig:\n",
        "            label_to_orig[int(lbl)] = int(fname_to_orig[fn])\n",
        "            break\n",
        "assert len(label_to_orig) == num_classes, \"Label→OrigID map incomplete. Recheck splits/identity file.\"\n",
        "\n",
        "# ---- Inference transform ----\n",
        "IMNET_MEAN = [0.485, 0.456, 0.406]; IMNET_STD = [0.229, 0.224, 0.225]\n",
        "infer_tfms = T.Compose([\n",
        "    T.Resize(int(IMG_SIZE*1.1)),\n",
        "    T.CenterCrop(IMG_SIZE),\n",
        "    T.ToTensor(),\n",
        "    T.Normalize(IMNET_MEAN, IMNET_STD),\n",
        "])\n",
        "\n",
        "def predict_image(image_path: str):\n",
        "    \"\"\"Loads a single image, prints predicted label index and CelebA ID, and shows the image.\"\"\"\n",
        "    assert os.path.exists(image_path), f\"Image not found: {image_path}\"\n",
        "    img = Image.open(image_path).convert(\"RGB\")\n",
        "    x = infer_tfms(img).unsqueeze(0).to(device)\n",
        "    with torch.no_grad():\n",
        "        logits = model(x)\n",
        "        probs = torch.softmax(logits, dim=1).squeeze(0).cpu().numpy()\n",
        "    pred_label = int(np.argmax(probs))\n",
        "    conf = float(np.max(probs))\n",
        "    pred_orig_id = label_to_orig.get(pred_label, None)\n",
        "\n",
        "    print(\"Image:\", image_path)\n",
        "    print(f\"Predicted label index: {pred_label}\")\n",
        "    print(f\"Predicted celebrity ID: {pred_orig_id}\")\n",
        "    print(f\"Confidence: {conf:.3f}\")\n",
        "    display(img)\n",
        "\n",
        "# ---- Upload & run prediction (Colab UI) ----\n",
        "if files is not None:\n",
        "    print(\"Upload a single image (jpg/png)…\")\n",
        "    uploaded = files.upload()  # opens a chooser UI\n",
        "    for name in uploaded.keys():\n",
        "        # Files are saved in /content/<name>\n",
        "        predict_image(os.path.join(\"/content\", name))\n",
        "else:\n",
        "    print(\"Not in Colab: call predict_image('/path/to/your_image.jpg') manually.\")\n"
      ],
      "metadata": {
        "colab": {
          "base_uri": "https://localhost:8080/",
          "height": 378
        },
        "id": "t17VLPfgHk-Z",
        "outputId": "556ce396-bba1-40cc-f11a-e51707e3e87e"
      },
      "execution_count": 22,
      "outputs": [
        {
          "output_type": "stream",
          "name": "stdout",
          "text": [
            "Upload a single image (jpg/png)…\n"
          ]
        },
        {
          "output_type": "display_data",
          "data": {
            "text/plain": [
              "<IPython.core.display.HTML object>"
            ],
            "text/html": [
              "\n",
              "     <input type=\"file\" id=\"files-1906c66b-7f0f-45f7-9831-7b25b9831984\" name=\"files[]\" multiple disabled\n",
              "        style=\"border:none\" />\n",
              "     <output id=\"result-1906c66b-7f0f-45f7-9831-7b25b9831984\">\n",
              "      Upload widget is only available when the cell has been executed in the\n",
              "      current browser session. Please rerun this cell to enable.\n",
              "      </output>\n",
              "      <script>// Copyright 2017 Google LLC\n",
              "//\n",
              "// Licensed under the Apache License, Version 2.0 (the \"License\");\n",
              "// you may not use this file except in compliance with the License.\n",
              "// You may obtain a copy of the License at\n",
              "//\n",
              "//      http://www.apache.org/licenses/LICENSE-2.0\n",
              "//\n",
              "// Unless required by applicable law or agreed to in writing, software\n",
              "// distributed under the License is distributed on an \"AS IS\" BASIS,\n",
              "// WITHOUT WARRANTIES OR CONDITIONS OF ANY KIND, either express or implied.\n",
              "// See the License for the specific language governing permissions and\n",
              "// limitations under the License.\n",
              "\n",
              "/**\n",
              " * @fileoverview Helpers for google.colab Python module.\n",
              " */\n",
              "(function(scope) {\n",
              "function span(text, styleAttributes = {}) {\n",
              "  const element = document.createElement('span');\n",
              "  element.textContent = text;\n",
              "  for (const key of Object.keys(styleAttributes)) {\n",
              "    element.style[key] = styleAttributes[key];\n",
              "  }\n",
              "  return element;\n",
              "}\n",
              "\n",
              "// Max number of bytes which will be uploaded at a time.\n",
              "const MAX_PAYLOAD_SIZE = 100 * 1024;\n",
              "\n",
              "function _uploadFiles(inputId, outputId) {\n",
              "  const steps = uploadFilesStep(inputId, outputId);\n",
              "  const outputElement = document.getElementById(outputId);\n",
              "  // Cache steps on the outputElement to make it available for the next call\n",
              "  // to uploadFilesContinue from Python.\n",
              "  outputElement.steps = steps;\n",
              "\n",
              "  return _uploadFilesContinue(outputId);\n",
              "}\n",
              "\n",
              "// This is roughly an async generator (not supported in the browser yet),\n",
              "// where there are multiple asynchronous steps and the Python side is going\n",
              "// to poll for completion of each step.\n",
              "// This uses a Promise to block the python side on completion of each step,\n",
              "// then passes the result of the previous step as the input to the next step.\n",
              "function _uploadFilesContinue(outputId) {\n",
              "  const outputElement = document.getElementById(outputId);\n",
              "  const steps = outputElement.steps;\n",
              "\n",
              "  const next = steps.next(outputElement.lastPromiseValue);\n",
              "  return Promise.resolve(next.value.promise).then((value) => {\n",
              "    // Cache the last promise value to make it available to the next\n",
              "    // step of the generator.\n",
              "    outputElement.lastPromiseValue = value;\n",
              "    return next.value.response;\n",
              "  });\n",
              "}\n",
              "\n",
              "/**\n",
              " * Generator function which is called between each async step of the upload\n",
              " * process.\n",
              " * @param {string} inputId Element ID of the input file picker element.\n",
              " * @param {string} outputId Element ID of the output display.\n",
              " * @return {!Iterable<!Object>} Iterable of next steps.\n",
              " */\n",
              "function* uploadFilesStep(inputId, outputId) {\n",
              "  const inputElement = document.getElementById(inputId);\n",
              "  inputElement.disabled = false;\n",
              "\n",
              "  const outputElement = document.getElementById(outputId);\n",
              "  outputElement.innerHTML = '';\n",
              "\n",
              "  const pickedPromise = new Promise((resolve) => {\n",
              "    inputElement.addEventListener('change', (e) => {\n",
              "      resolve(e.target.files);\n",
              "    });\n",
              "  });\n",
              "\n",
              "  const cancel = document.createElement('button');\n",
              "  inputElement.parentElement.appendChild(cancel);\n",
              "  cancel.textContent = 'Cancel upload';\n",
              "  const cancelPromise = new Promise((resolve) => {\n",
              "    cancel.onclick = () => {\n",
              "      resolve(null);\n",
              "    };\n",
              "  });\n",
              "\n",
              "  // Wait for the user to pick the files.\n",
              "  const files = yield {\n",
              "    promise: Promise.race([pickedPromise, cancelPromise]),\n",
              "    response: {\n",
              "      action: 'starting',\n",
              "    }\n",
              "  };\n",
              "\n",
              "  cancel.remove();\n",
              "\n",
              "  // Disable the input element since further picks are not allowed.\n",
              "  inputElement.disabled = true;\n",
              "\n",
              "  if (!files) {\n",
              "    return {\n",
              "      response: {\n",
              "        action: 'complete',\n",
              "      }\n",
              "    };\n",
              "  }\n",
              "\n",
              "  for (const file of files) {\n",
              "    const li = document.createElement('li');\n",
              "    li.append(span(file.name, {fontWeight: 'bold'}));\n",
              "    li.append(span(\n",
              "        `(${file.type || 'n/a'}) - ${file.size} bytes, ` +\n",
              "        `last modified: ${\n",
              "            file.lastModifiedDate ? file.lastModifiedDate.toLocaleDateString() :\n",
              "                                    'n/a'} - `));\n",
              "    const percent = span('0% done');\n",
              "    li.appendChild(percent);\n",
              "\n",
              "    outputElement.appendChild(li);\n",
              "\n",
              "    const fileDataPromise = new Promise((resolve) => {\n",
              "      const reader = new FileReader();\n",
              "      reader.onload = (e) => {\n",
              "        resolve(e.target.result);\n",
              "      };\n",
              "      reader.readAsArrayBuffer(file);\n",
              "    });\n",
              "    // Wait for the data to be ready.\n",
              "    let fileData = yield {\n",
              "      promise: fileDataPromise,\n",
              "      response: {\n",
              "        action: 'continue',\n",
              "      }\n",
              "    };\n",
              "\n",
              "    // Use a chunked sending to avoid message size limits. See b/62115660.\n",
              "    let position = 0;\n",
              "    do {\n",
              "      const length = Math.min(fileData.byteLength - position, MAX_PAYLOAD_SIZE);\n",
              "      const chunk = new Uint8Array(fileData, position, length);\n",
              "      position += length;\n",
              "\n",
              "      const base64 = btoa(String.fromCharCode.apply(null, chunk));\n",
              "      yield {\n",
              "        response: {\n",
              "          action: 'append',\n",
              "          file: file.name,\n",
              "          data: base64,\n",
              "        },\n",
              "      };\n",
              "\n",
              "      let percentDone = fileData.byteLength === 0 ?\n",
              "          100 :\n",
              "          Math.round((position / fileData.byteLength) * 100);\n",
              "      percent.textContent = `${percentDone}% done`;\n",
              "\n",
              "    } while (position < fileData.byteLength);\n",
              "  }\n",
              "\n",
              "  // All done.\n",
              "  yield {\n",
              "    response: {\n",
              "      action: 'complete',\n",
              "    }\n",
              "  };\n",
              "}\n",
              "\n",
              "scope.google = scope.google || {};\n",
              "scope.google.colab = scope.google.colab || {};\n",
              "scope.google.colab._files = {\n",
              "  _uploadFiles,\n",
              "  _uploadFilesContinue,\n",
              "};\n",
              "})(self);\n",
              "</script> "
            ]
          },
          "metadata": {}
        },
        {
          "output_type": "stream",
          "name": "stdout",
          "text": [
            "Saving lol.jpg to lol (1).jpg\n",
            "Image: /content/lol (1).jpg\n",
            "Predicted label index: 2891\n",
            "Predicted celebrity ID: 3401\n",
            "Confidence: 0.905\n"
          ]
        },
        {
          "output_type": "display_data",
          "data": {
            "text/plain": [
              "<PIL.Image.Image image mode=RGB size=178x218>"
            ],
            "image/png": "[encoded data removed]",
            "image/jpeg": "[encoded data removed]"
          },
          "metadata": {}
        }
      ]
    }
  ]
}